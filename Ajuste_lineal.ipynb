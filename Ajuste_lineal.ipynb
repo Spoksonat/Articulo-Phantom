{
 "cells": [
  {
   "cell_type": "code",
   "execution_count": 18,
   "metadata": {},
   "outputs": [],
   "source": [
    "import numpy as np\n",
    "import matplotlib.pyplot as plt\n",
    "import seaborn as sns\n",
    "import pandas as pd\n",
    "from scipy.optimize import curve_fit"
   ]
  },
  {
   "attachments": {},
   "cell_type": "markdown",
   "metadata": {},
   "source": [
    "### Definición de función de ajuste (línea recta)"
   ]
  },
  {
   "cell_type": "code",
   "execution_count": 19,
   "metadata": {},
   "outputs": [],
   "source": [
    "def line(x,a,b):\n",
    "    return a*x + b"
   ]
  },
  {
   "attachments": {},
   "cell_type": "markdown",
   "metadata": {},
   "source": [
    "### Cargamos los datos de porcentajes de tejido adiposo, junto con sus respectivos límites superior e inferior calculados del método descrito en el artículo"
   ]
  },
  {
   "cell_type": "code",
   "execution_count": 20,
   "metadata": {},
   "outputs": [
    {
     "name": "stdout",
     "output_type": "stream",
     "text": [
      "[10.12 18.52 27.03 35.44 43.95 52.46 61.07 69.57 78.18] +- [1.71 1.6  1.7  1.7  1.7  1.7  1.7  1.71 1.7 ]\n"
     ]
    }
   ],
   "source": [
    "p_ad = np.genfromtxt(\"adipose_percentages.txt\")\n",
    "error = np.genfromtxt(\"adipose_percentages_minus.txt\") - np.genfromtxt(\"adipose_percentages_plus.txt\")\n",
    "p_gl = 1 - p_ad\n",
    "print(100*p_gl, \"+-\", 100*error)"
   ]
  },
  {
   "attachments": {},
   "cell_type": "markdown",
   "metadata": {},
   "source": [
    "### Cargamos los datos de intensidades promedio normalizadas de cada escalón y los respectivos errores"
   ]
  },
  {
   "cell_type": "code",
   "execution_count": 21,
   "metadata": {},
   "outputs": [],
   "source": [
    "means = np.genfromtxt(\"means_intensity.txt\")\n",
    "error_int = np.genfromtxt(\"errors_intensity.txt\")"
   ]
  },
  {
   "attachments": {},
   "cell_type": "markdown",
   "metadata": {},
   "source": [
    "### Convertimos los datos anteriores a un dataframe de Pandas"
   ]
  },
  {
   "cell_type": "code",
   "execution_count": 22,
   "metadata": {},
   "outputs": [
    {
     "data": {
      "text/html": [
       "<div>\n",
       "<style scoped>\n",
       "    .dataframe tbody tr th:only-of-type {\n",
       "        vertical-align: middle;\n",
       "    }\n",
       "\n",
       "    .dataframe tbody tr th {\n",
       "        vertical-align: top;\n",
       "    }\n",
       "\n",
       "    .dataframe thead th {\n",
       "        text-align: right;\n",
       "    }\n",
       "</style>\n",
       "<table border=\"1\" class=\"dataframe\">\n",
       "  <thead>\n",
       "    <tr style=\"text-align: right;\">\n",
       "      <th></th>\n",
       "      <th>glandular percentage</th>\n",
       "      <th>error percentage</th>\n",
       "      <th>mean intensities</th>\n",
       "      <th>error intensities</th>\n",
       "    </tr>\n",
       "  </thead>\n",
       "  <tbody>\n",
       "    <tr>\n",
       "      <th>0</th>\n",
       "      <td>10.12</td>\n",
       "      <td>1.71</td>\n",
       "      <td>8.912875e+01</td>\n",
       "      <td>1.401447</td>\n",
       "    </tr>\n",
       "    <tr>\n",
       "      <th>1</th>\n",
       "      <td>18.52</td>\n",
       "      <td>1.60</td>\n",
       "      <td>7.153538e+01</td>\n",
       "      <td>1.156859</td>\n",
       "    </tr>\n",
       "    <tr>\n",
       "      <th>2</th>\n",
       "      <td>27.03</td>\n",
       "      <td>1.70</td>\n",
       "      <td>6.063014e+01</td>\n",
       "      <td>2.047879</td>\n",
       "    </tr>\n",
       "    <tr>\n",
       "      <th>3</th>\n",
       "      <td>35.44</td>\n",
       "      <td>1.70</td>\n",
       "      <td>5.367199e+01</td>\n",
       "      <td>1.413786</td>\n",
       "    </tr>\n",
       "    <tr>\n",
       "      <th>4</th>\n",
       "      <td>43.95</td>\n",
       "      <td>1.70</td>\n",
       "      <td>3.739752e+01</td>\n",
       "      <td>0.993433</td>\n",
       "    </tr>\n",
       "    <tr>\n",
       "      <th>5</th>\n",
       "      <td>52.46</td>\n",
       "      <td>1.70</td>\n",
       "      <td>2.669996e+01</td>\n",
       "      <td>1.751661</td>\n",
       "    </tr>\n",
       "    <tr>\n",
       "      <th>6</th>\n",
       "      <td>61.07</td>\n",
       "      <td>1.70</td>\n",
       "      <td>2.203007e+01</td>\n",
       "      <td>1.839386</td>\n",
       "    </tr>\n",
       "    <tr>\n",
       "      <th>7</th>\n",
       "      <td>69.57</td>\n",
       "      <td>1.71</td>\n",
       "      <td>1.160545e+01</td>\n",
       "      <td>0.986853</td>\n",
       "    </tr>\n",
       "    <tr>\n",
       "      <th>8</th>\n",
       "      <td>78.18</td>\n",
       "      <td>1.70</td>\n",
       "      <td>1.324315e-14</td>\n",
       "      <td>1.000000</td>\n",
       "    </tr>\n",
       "  </tbody>\n",
       "</table>\n",
       "</div>"
      ],
      "text/plain": [
       "   glandular percentage  error percentage  mean intensities  error intensities\n",
       "0                 10.12              1.71      8.912875e+01           1.401447\n",
       "1                 18.52              1.60      7.153538e+01           1.156859\n",
       "2                 27.03              1.70      6.063014e+01           2.047879\n",
       "3                 35.44              1.70      5.367199e+01           1.413786\n",
       "4                 43.95              1.70      3.739752e+01           0.993433\n",
       "5                 52.46              1.70      2.669996e+01           1.751661\n",
       "6                 61.07              1.70      2.203007e+01           1.839386\n",
       "7                 69.57              1.71      1.160545e+01           0.986853\n",
       "8                 78.18              1.70      1.324315e-14           1.000000"
      ]
     },
     "execution_count": 22,
     "metadata": {},
     "output_type": "execute_result"
    }
   ],
   "source": [
    "df = pd.DataFrame({\"glandular percentage\":100*p_gl, \"error percentage\":100*error, \"mean intensities\":means, \"error intensities\":error_int })\n",
    "\n",
    "df"
   ]
  },
  {
   "attachments": {},
   "cell_type": "markdown",
   "metadata": {},
   "source": [
    "### Realizamos el ajuste de los datos de intensidad promedio normalizada vs porcentaje adiposo (de 0 a 100) e imprimimos matriz de covarianza "
   ]
  },
  {
   "cell_type": "code",
   "execution_count": 23,
   "metadata": {},
   "outputs": [
    {
     "name": "stdout",
     "output_type": "stream",
     "text": [
      "[[ 2.69793559e-03 -1.18811088e-01]\n",
      " [-1.18811088e-01  6.53419485e+00]]\n"
     ]
    }
   ],
   "source": [
    "popt, pcov = curve_fit(line, 100*p_gl, means)\n",
    "print(pcov) # Imprimimos matriz de covarianza"
   ]
  },
  {
   "cell_type": "code",
   "execution_count": 33,
   "metadata": {},
   "outputs": [
    {
     "data": {
      "image/png": "[encoded data removed]",
      "text/plain": [
       "<Figure size 640x480 with 1 Axes>"
      ]
     },
     "metadata": {},
     "output_type": "display_data"
    }
   ],
   "source": [
    "#err_slope = np.sqrt(pcov[0][0])\n",
    "#err_inter = np.sqrt(pcov[1][1])\n",
    "\n",
    "xi = np.linspace(np.min(100*p_gl), np.max(100*p_gl), 100)\n",
    "ps = np.random.multivariate_normal(popt, pcov, 10000) # Generamos 10000 puntos distribuidos normalmente (Gaussiana 2D, con promedios dados por los parámetros optimos encontrados para la pendiente y el intercepto y con la matriz de covarianza dada por la matriz de covarianza encontrada del ajuste)\n",
    "ysample = np.asarray([line(xi, *pi) for pi in ps]) # Hallamos los valores de la recta usando como parametros de fit los parámetros encontrados anteriormente (hallamos puntos dentro del intervalo de confianza)\n",
    "lower = np.percentile(ysample, 2.5, axis=0) # Conservamos los puntos dentro de la banda que estén en el percentil 2.5 (límite inferior)\n",
    "upper = np.percentile(ysample, 97.5, axis=0) # Conservamos los puntos dentro de la banda que estén en el percentil 97.5 (límite superior)\n",
    "\n",
    "\n",
    "# Graficamos\n",
    "fig = plt.figure()\n",
    "plt.errorbar(100*p_gl, means, yerr=error_int, xerr=error, ls=\"none\", marker='s', markersize=2)\n",
    "plt.plot(100*p_gl, line(100*p_gl, *popt), 'r-',label='fit: slope=%5.3f, intercept=%5.3f' % tuple(popt))\n",
    "plt.fill_between(xi, lower, upper, alpha=0.18, edgecolor='#3F7F4C', facecolor='red', linewidth=0)\n",
    "plt.legend()\n",
    "plt.show()\n",
    "fig.savefig(\"int_gl_calibration.svg\")"
   ]
  },
  {
   "cell_type": "code",
   "execution_count": null,
   "metadata": {},
   "outputs": [],
   "source": []
  }
 ],
 "metadata": {
  "kernelspec": {
   "display_name": "base",
   "language": "python",
   "name": "python3"
  },
  "language_info": {
   "codemirror_mode": {
    "name": "ipython",
    "version": 3
   },
   "file_extension": ".py",
   "mimetype": "text/x-python",
   "name": "python",
   "nbconvert_exporter": "python",
   "pygments_lexer": "ipython3",
   "version": "3.9.13"
  },
  "orig_nbformat": 4,
  "vscode": {
   "interpreter": {
    "hash": "ad2bdc8ecc057115af97d19610ffacc2b4e99fae6737bb82f5d7fb13d2f2c186"
   }
  }
 },
 "nbformat": 4,
 "nbformat_minor": 2
}
